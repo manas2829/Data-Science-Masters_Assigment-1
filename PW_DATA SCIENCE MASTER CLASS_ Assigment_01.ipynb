{
 "cells": [
  {
   "cell_type": "markdown",
   "id": "124e7d68",
   "metadata": {},
   "source": [
    "# Assignment_29-01-2023"
   ]
  },
  {
   "cell_type": "markdown",
   "id": "de324e8a",
   "metadata": {},
   "source": [
    "### 1. WHO DEVELOPED PYTHON PROGRAMMING LANGUAGE ?\n",
    "\n",
    "#### Ans:- \n",
    "           The programming language Python was developed by Guido van Rossum in 1989. The Language finally realsed in 1991.                it's main objective is to provide code readbility and advanced devloper productivity.\n"
   ]
  },
  {
   "cell_type": "markdown",
   "id": "dfa136b1",
   "metadata": {},
   "source": [
    "### 2. WHICH TYPE OF PROGRAMMING DOES PYTHON SUPPORT ?\n",
    "\n",
    "#### Ans:- \n",
    "       Python supports multiple programming paradigms, including procedural, object-oriented, and functional programming.\n",
    "       It also has a strong emphasis on code readability, making it a popular choice for scripting and rapid prototyping."
   ]
  },
  {
   "cell_type": "markdown",
   "id": "2f2f4f6d",
   "metadata": {},
   "source": [
    "### 3. IS PYTHON CASE SENSITIVE WHEN DEALING WITH IDENTIFIERS ?\n",
    "\n",
    "#### Ans:- \n",
    "         Yes, Python is case-sensitive when it comes to dealing with identifiers (variable names, function names, etc.).\n",
    "         This means that names like \"myVariable\" and \"myvariable\" would be treated as different variables."
   ]
  },
  {
   "cell_type": "markdown",
   "id": "f460b1a3",
   "metadata": {},
   "source": [
    "## 4. WHAT IS THE CORRECT EXTENSION OF PYTHON FILE ?\n",
    "\n",
    "### Ans:- \n",
    "          The correct extension for a Python file is \".py\".\n",
    "   "
   ]
  },
  {
   "cell_type": "markdown",
   "id": "47475b52",
   "metadata": {},
   "source": [
    "## 5. IS PYTHON CODE COMPILED OR INTERPRETED ?\n",
    "\n",
    "### Ans.\n",
    "           Python is an interpreted language."
   ]
  },
  {
   "cell_type": "markdown",
   "id": "c895b611",
   "metadata": {},
   "source": [
    "## 6. NAME OF FEW BLOCKS OF CODE USED TO DEFINE IN PYTHON LANGUAGE ?\n",
    "\n",
    "### Ans:-\n",
    "         1.if statement\n",
    "         2.for loop\n",
    "         3.while loop\n",
    "         4.def statement (to define functions)\n",
    "         5.class statement (to define classes)\n",
    "         6.return statement (to return a value from a function)\n",
    "         7.pass statement (to define a placeholder for a block of code)"
   ]
  },
  {
   "cell_type": "markdown",
   "id": "f5ec811c",
   "metadata": {},
   "source": [
    "## 7. STATE A CHARATER USED TO GIVEN A SINGLE LINE COMMENT IN PYTHON ?\n",
    "\n",
    "### Ans:-\n",
    "         In Python, the character used to give a single line comment is the hash symbol (#)."
   ]
  },
  {
   "cell_type": "markdown",
   "id": "d014bff5",
   "metadata": {},
   "source": [
    "## 8. MENTION FUNCTIONS WHICH CAN HELP US TO FIND THE VERSION OF PYTHON THAT WE ARE CURRENTLY USED ?\n",
    "\n",
    "### Ans:-\n",
    "           In annaconda comant prompt:- C:\\Users\\MANAS RANJAN PANDEY> python -V\n",
    "                                        C:\\Users\\MANAS RANJAN PANDEY>python --version\n",
    "            "
   ]
  },
  {
   "cell_type": "code",
   "execution_count": 5,
   "id": "3da48ca5",
   "metadata": {},
   "outputs": [
    {
     "name": "stdout",
     "output_type": "stream",
     "text": [
      "3.8.8\n"
     ]
    }
   ],
   "source": [
    "# In jupyter Note book find the current version of python.\n",
    "from platform import python_version\n",
    "print(python_version())\n"
   ]
  },
  {
   "cell_type": "markdown",
   "id": "3c938e48",
   "metadata": {},
   "source": [
    "## 9. PYTHONE SUPPORTS THE CREATION OF ANONYMOUS FUNCTIONS AT RUNTIME,                  USING A CONSTRUCT CALLED\n",
    "\n",
    "### Ans:- \n",
    "           lambda."
   ]
  },
  {
   "cell_type": "markdown",
   "id": "d9577f07",
   "metadata": {},
   "source": [
    "## 10. WHAT IS pip STANDARD FOR IN PYTHON ?\n",
    "\n",
    "### Ans:-\n",
    "          pip stands for \"Pip Installs Packages\". It is a package management system for Python, used to install and \n",
    "          manage software packages written in Python. pip makes it easier to distribute and manage Python packages, \n",
    "          allowing users to install packages with just a few commands."
   ]
  },
  {
   "cell_type": "markdown",
   "id": "90b45b04",
   "metadata": {},
   "source": [
    "## 11.MENTION A FEW BUILT - IN FUNCTION IN PYTHON ?\n",
    "\n",
    "### Ans:-\n",
    "          There are a few of the most commonly used built-in functions in Python:\n",
    "\n",
    "          1.print() - displays output to the console\n",
    "          2.len() - returns the length of an object\n",
    "          3.int() - converts a value to an integer\n",
    "          4.float() - converts a value to a float\n",
    "          5.str() - converts a value to a string\n",
    "          6.list() - creates a list\n",
    "          7.dict() - creates a dictionary\n",
    "          8.tuple() - creates a tuple\n",
    "          9.range() - generates a range of values\n",
    "          10.input() - reads input from the user\n",
    "          11.sum() - calculates the sum of a sequence of numbers\n",
    "          12.max() - returns the largest item in a sequence\n",
    "          13.min() - returns the smallest item in a sequence\n",
    "          14.sorted() - returns a sorted list from a given iterable\n",
    "          15.reversed() - returns a reversed iterator.\n",
    "\n",
    "\n",
    "\n",
    "\n"
   ]
  },
  {
   "cell_type": "markdown",
   "id": "d47b5aa0",
   "metadata": {},
   "source": [
    "## 12.WHAT IS THE MAXIMUM POSSIBLE LENGHT OF AN IDENTIFIER IN PYTHON ?\n",
    "\n",
    "### Ans:-\n",
    "      There is no specific maximum length for an identifier in Python, it is limited by the available memory of the system.\n"
   ]
  },
  {
   "cell_type": "markdown",
   "id": "70a8da45",
   "metadata": {},
   "source": [
    "## 13. WHAT ARE THE BENIFIT ARE USEING PYTHON ?\n",
    "\n",
    "### Ans:-\n",
    "           There are several benefits of using Python, some of which include:\n",
    "\n",
    "           a.Easy to learn and use: Python has a simple syntax, making it an ideal language for beginners to learn.\n",
    "\n",
    "           b.Versatile: Python can be used for a wide range of applications, including web development, scientific \n",
    "             computing, data analysis, artificial intelligence, and more.\n",
    "\n",
    "           c.Large and supportive community: Python has a large and active community that provides extensive \n",
    "             resources and support.\n",
    "\n",
    "           d.Rich standard library: Python comes with a vast standard library that supports many tasks, reducing the \n",
    "             need to write additional code.\n",
    "\n",
    "           e.Dynamic and high-level: Python is dynamically-typed and provides high-level abstractions, making it \n",
    "             easier to write code and reducing the likelihood of bugs.\n",
    "\n",
    "           f.Interoperable: Python can be integrated with other programming languages, making it easy to use and \n",
    "             reuse existing code.\n",
    "\n",
    "           g.Growing popularity: Python is one of the fastest-growing programming languages, with increasing demand \n",
    "             for Python developers in the job market.\n",
    "\n",
    "\n",
    "\n",
    "\n"
   ]
  },
  {
   "cell_type": "markdown",
   "id": "4660591c",
   "metadata": {},
   "source": [
    "## 14. HOW TO MEMORY MANAGED IN PYTHON ?\n",
    "\n",
    "### Ans:-\n",
    "          In Python, memory management is handled automatically by the Python interpreter using a reference counting \n",
    "          system and a garbage collector.it is still important to be mindful of memory usage in Python and to \n",
    "          understand the memory implications of different data structures and algorithms.\n",
    "          \n",
    "\n"
   ]
  },
  {
   "cell_type": "markdown",
   "id": "f88b17a1",
   "metadata": {},
   "source": [
    "## 15. HOW TO INSTALL PYTHON ON WINDOWS AND SET PATH VARIABLES ?\n",
    "\n",
    "### Ans:-\n",
    "           Here are the steps to install Python on Windows and set the PATH environment variables:\n",
    "\n",
    "           1)Download the Python installer: Go to the Python official website (https://www.python.org/downloads/) \n",
    "             and download the latest version of Python for Windows.\n",
    "\n",
    "           2)Run the installer: Double-click the downloaded Python installer and follow the prompts to install Python. \n",
    "             During the installation, make sure to check the option to \"Add Python to PATH\" or \"Install for all users\".\n",
    "\n",
    "           3)Verify installation: Open a command prompt window and type \"python\" to verify that Python has been \n",
    "           installed successfully. If the installation was successful.\n",
    "\n",
    "           4)Set the PATH environment variable"
   ]
  },
  {
   "cell_type": "markdown",
   "id": "5bd4f2b6",
   "metadata": {},
   "source": [
    "## 16. IS INDENTATION REUIRED IN PYTHON ?\n",
    "\n",
    "### Ans:-\n",
    "        Yes, indentation is required in Python and it is a crucial part of the language syntax. \n",
    "        \n",
    "        For example, the following code defines a for loop in Python:\n",
    "        Here, the body of the loop (the print statement) is indented with 4 spaces, \n",
    "        indicating that it is part of the loop."
   ]
  },
  {
   "cell_type": "code",
   "execution_count": 6,
   "id": "eee0a994",
   "metadata": {},
   "outputs": [
    {
     "name": "stdout",
     "output_type": "stream",
     "text": [
      "0,1,2,3,4,5,6,7,8,9,"
     ]
    }
   ],
   "source": [
    "for i in range(10):\n",
    "    print(i,end=\",\")"
   ]
  }
 ],
 "metadata": {
  "kernelspec": {
   "display_name": "Python 3",
   "language": "python",
   "name": "python3"
  },
  "language_info": {
   "codemirror_mode": {
    "name": "ipython",
    "version": 3
   },
   "file_extension": ".py",
   "mimetype": "text/x-python",
   "name": "python",
   "nbconvert_exporter": "python",
   "pygments_lexer": "ipython3",
   "version": "3.8.8"
  }
 },
 "nbformat": 4,
 "nbformat_minor": 5
}
